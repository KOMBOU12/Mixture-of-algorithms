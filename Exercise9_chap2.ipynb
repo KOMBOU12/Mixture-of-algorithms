{
 "cells": [
  {
   "cell_type": "code",
   "execution_count": 2,
   "id": "545dfa63-dbfd-4092-8b41-7ee25aaa7be9",
   "metadata": {},
   "outputs": [
    {
     "name": "stdout",
     "output_type": "stream",
     "text": [
      "              mpg   cylinders  displacement       weight  acceleration  \\\n",
      "count  397.000000  397.000000    397.000000   397.000000    397.000000   \n",
      "mean    23.515869    5.458438    193.532746  2970.261965     15.555668   \n",
      "std      7.825804    1.701577    104.379583   847.904119      2.749995   \n",
      "min      9.000000    3.000000     68.000000  1613.000000      8.000000   \n",
      "25%     17.500000    4.000000    104.000000  2223.000000     13.800000   \n",
      "50%     23.000000    4.000000    146.000000  2800.000000     15.500000   \n",
      "75%     29.000000    8.000000    262.000000  3609.000000     17.100000   \n",
      "max     46.600000    8.000000    455.000000  5140.000000     24.800000   \n",
      "\n",
      "             year      origin  \n",
      "count  397.000000  397.000000  \n",
      "mean    75.994962    1.574307  \n",
      "std      3.690005    0.802549  \n",
      "min     70.000000    1.000000  \n",
      "25%     73.000000    1.000000  \n",
      "50%     76.000000    1.000000  \n",
      "75%     79.000000    2.000000  \n",
      "max     82.000000    3.000000  \n"
     ]
    }
   ],
   "source": [
    "import pandas as pd\n",
    "auto = pd.read_csv('Auto.csv')\n",
    "print(auto.describe())"
   ]
  },
  {
   "cell_type": "code",
   "execution_count": 9,
   "id": "e3bbacba-ec9d-48eb-a8a9-d6af9e9b2f3c",
   "metadata": {},
   "outputs": [
    {
     "name": "stdout",
     "output_type": "stream",
     "text": [
      "mpg                         46.6\n",
      "cylinders                      8\n",
      "displacement               455.0\n",
      "horsepower                     ?\n",
      "weight                      5140\n",
      "acceleration                24.8\n",
      "year                          82\n",
      "origin                         3\n",
      "name            vw rabbit custom\n",
      "dtype: object\n",
      "mpg                                 9.0\n",
      "cylinders                             3\n",
      "displacement                       68.0\n",
      "horsepower                          100\n",
      "weight                             1613\n",
      "acceleration                        8.0\n",
      "year                                 70\n",
      "origin                                1\n",
      "name            amc ambassador brougham\n",
      "dtype: object\n"
     ]
    }
   ],
   "source": [
    "print(auto.max())\n",
    "print(auto.min())"
   ]
  },
  {
   "cell_type": "code",
   "execution_count": 5,
   "id": "10a3a6b0-2d4e-4fe6-81c6-900f48630c36",
   "metadata": {},
   "outputs": [
    {
     "name": "stdout",
     "output_type": "stream",
     "text": [
      "              mpg   cylinders  displacement       weight  acceleration  \\\n",
      "count  321.000000  321.000000    321.000000   321.000000    321.000000   \n",
      "mean    24.438629    5.370717    187.049844  2933.962617     15.723053   \n",
      "std      7.908184    1.653486     99.635385   810.642938      2.680514   \n",
      "min     11.000000    3.000000     68.000000  1649.000000      8.500000   \n",
      "25%     18.000000    4.000000    100.000000  2215.000000     14.000000   \n",
      "50%     23.900000    4.000000    145.000000  2795.000000     15.500000   \n",
      "75%     30.700000    6.000000    250.000000  3504.000000     17.300000   \n",
      "max     46.600000    8.000000    455.000000  4997.000000     24.800000   \n",
      "\n",
      "             year      origin  \n",
      "count  321.000000  321.000000  \n",
      "mean    77.152648    1.598131  \n",
      "std      3.111230    0.816163  \n",
      "min     70.000000    1.000000  \n",
      "25%     75.000000    1.000000  \n",
      "50%     77.000000    1.000000  \n",
      "75%     80.000000    2.000000  \n",
      "max     82.000000    3.000000  \n"
     ]
    }
   ],
   "source": [
    "#Questions 9.d  Now remove the 10th through 85th observations.\n",
    "auto = pd.read_csv('Auto.csv')\n",
    "# Remove the 10th through 85th observations\n",
    "auto = auto.drop(auto.index[9:85])\n",
    "\n",
    "# Reset the index if needed\n",
    "auto1 = auto.reset_index(drop=True)\n",
    "\n",
    "# Print the resulting DataFrame\n",
    "print(auto1.describe())\n"
   ]
  },
  {
   "cell_type": "code",
   "execution_count": null,
   "id": "143cba10-4a75-4716-aa64-81ba8c0344c1",
   "metadata": {},
   "outputs": [],
   "source": []
  }
 ],
 "metadata": {
  "kernelspec": {
   "display_name": "Python 3 (ipykernel)",
   "language": "python",
   "name": "python3"
  },
  "language_info": {
   "codemirror_mode": {
    "name": "ipython",
    "version": 3
   },
   "file_extension": ".py",
   "mimetype": "text/x-python",
   "name": "python",
   "nbconvert_exporter": "python",
   "pygments_lexer": "ipython3",
   "version": "3.11.4"
  }
 },
 "nbformat": 4,
 "nbformat_minor": 5
}
